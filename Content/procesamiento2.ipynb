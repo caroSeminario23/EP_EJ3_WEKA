{
 "cells": [
  {
   "cell_type": "markdown",
   "id": "b2b16a88",
   "metadata": {},
   "source": [
    "# Conversión del dataset en csv a arff"
   ]
  },
  {
   "cell_type": "markdown",
   "id": "1300b47d",
   "metadata": {},
   "source": [
    "## Importación de los datos\n",
    "En primer lugar, es necesario importar el dataset procesado y en formato csv."
   ]
  },
  {
   "cell_type": "code",
   "execution_count": 1,
   "id": "cccf14ec",
   "metadata": {},
   "outputs": [
    {
     "name": "stdout",
     "output_type": "stream",
     "text": [
      "Collecting liac-arff\n",
      "  Downloading liac-arff-2.5.0.tar.gz (13 kB)\n",
      "  Installing build dependencies: started\n",
      "  Installing build dependencies: finished with status 'done'\n",
      "  Getting requirements to build wheel: started\n",
      "  Getting requirements to build wheel: finished with status 'done'\n",
      "  Preparing metadata (pyproject.toml): started\n",
      "  Preparing metadata (pyproject.toml): finished with status 'done'\n",
      "Building wheels for collected packages: liac-arff\n",
      "  Building wheel for liac-arff (pyproject.toml): started\n",
      "  Building wheel for liac-arff (pyproject.toml): finished with status 'done'\n",
      "  Created wheel for liac-arff: filename=liac_arff-2.5.0-py3-none-any.whl size=11782 sha256=c15e8fa9bc7d6dff5e2b1b019b0cf002594229816980bc4e2ea812de6b76d806\n",
      "  Stored in directory: c:\\users\\carolina\\appdata\\local\\pip\\cache\\wheels\\a9\\ac\\cf\\c2919807a5c623926d217c0a18eb5b457e5c19d242c3b5963a\n",
      "Successfully built liac-arff\n",
      "Installing collected packages: liac-arff\n",
      "Successfully installed liac-arff-2.5.0\n",
      "Note: you may need to restart the kernel to use updated packages.\n"
     ]
    }
   ],
   "source": [
    "# Intalar la librería liac-arff para manejar archivos ARFF\n",
    "%pip install liac-arff"
   ]
  },
  {
   "cell_type": "code",
   "execution_count": 2,
   "id": "71ceec9f",
   "metadata": {},
   "outputs": [],
   "source": [
    "# Importar las librerías necesarias\t\n",
    "import pandas as pd\n",
    "import arff"
   ]
  },
  {
   "cell_type": "code",
   "execution_count": 4,
   "id": "5ee8b405",
   "metadata": {},
   "outputs": [
    {
     "name": "stdout",
     "output_type": "stream",
     "text": [
      "   cod_escuela  cod_plan cod_asignatura categoria_nota\n",
      "0            1      2009         201003      Aceptable\n",
      "1            1      2009         201101      Aceptable\n",
      "2            1      2009         201101      Reprobado\n",
      "3            1      2009         201101      Aceptable\n",
      "4            1      2009         201101           Baja\n"
     ]
    }
   ],
   "source": [
    "# Cargar el dataset CSV\n",
    "df = pd.read_csv(\"../Data/DP_notas_categorizadas.csv\")\n",
    "\n",
    "# Mostrar las primeras filas del DataFrame\n",
    "print(df.head())"
   ]
  },
  {
   "cell_type": "markdown",
   "id": "b6e3a307",
   "metadata": {},
   "source": [
    "## Preparación de los datos\n",
    "En segundo lugar, se preparan los datos para garantizar la compatibilidad entre csv y arff"
   ]
  },
  {
   "cell_type": "code",
   "execution_count": 5,
   "id": "11054757",
   "metadata": {},
   "outputs": [],
   "source": [
    "# Preparar los atributos para ARFF\n",
    "attributes = [(col, df[col].unique().tolist() if df[col].dtype == 'object' else 'REAL') for col in df.columns]\n",
    "\n",
    "# Crear estructura ARFF\n",
    "arff_data = {\n",
    "    'description': 'Dataset de notas categorizadas de universitarios de la FISI-UNMSM',\n",
    "    'relation': 'notas_categorizadas',\n",
    "    'attributes': attributes,\n",
    "    'data': df.values.tolist()\n",
    "}"
   ]
  },
  {
   "cell_type": "markdown",
   "id": "4e538287",
   "metadata": {},
   "source": [
    "## Exportación del archivo ARFF\n",
    "Finalmente, se exporta el dataset como archivo ARFF, lo cual facilita su tratamiento con WEKA."
   ]
  },
  {
   "cell_type": "code",
   "execution_count": 6,
   "id": "7496bd73",
   "metadata": {},
   "outputs": [
    {
     "name": "stdout",
     "output_type": "stream",
     "text": [
      "✅ Archivo ARFF generado con éxito.\n"
     ]
    }
   ],
   "source": [
    "# Guardar como archivo ARFF\n",
    "with open(\"../Data/DP_notas_categorizadas.arff\", \"w\") as f:\n",
    "    arff.dump(arff_data, f)\n",
    "\n",
    "print(\"✅ Archivo ARFF generado con éxito.\")"
   ]
  }
 ],
 "metadata": {
  "kernelspec": {
   "display_name": ".venv",
   "language": "python",
   "name": "python3"
  },
  "language_info": {
   "codemirror_mode": {
    "name": "ipython",
    "version": 3
   },
   "file_extension": ".py",
   "mimetype": "text/x-python",
   "name": "python",
   "nbconvert_exporter": "python",
   "pygments_lexer": "ipython3",
   "version": "3.12.5"
  }
 },
 "nbformat": 4,
 "nbformat_minor": 5
}
