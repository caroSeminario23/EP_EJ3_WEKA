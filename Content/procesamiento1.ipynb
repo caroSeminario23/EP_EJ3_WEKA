{
 "cells": [
  {
   "cell_type": "markdown",
   "id": "8442b2f5",
   "metadata": {},
   "source": [
    "# Análisis de la tabla clasificaciones"
   ]
  },
  {
   "cell_type": "markdown",
   "id": "8dbfd161",
   "metadata": {},
   "source": [
    "## 1. Importación de datos\n",
    "En primer lugar, es necesario importar los datos de las calificaciones y de los cursos con la finalidad de verificar que los códigos de curso mencionados en el primer dataset existan realmente."
   ]
  },
  {
   "cell_type": "code",
   "execution_count": 2,
   "id": "5cc977ac",
   "metadata": {},
   "outputs": [
    {
     "name": "stdout",
     "output_type": "stream",
     "text": [
      "Collecting polars\n",
      "  Downloading polars-1.30.0-cp39-abi3-win_amd64.whl.metadata (15 kB)\n",
      "Downloading polars-1.30.0-cp39-abi3-win_amd64.whl (36.4 MB)\n",
      "   ---------------------------------------- 0.0/36.4 MB ? eta -:--:--\n",
      "   -------- ------------------------------- 7.3/36.4 MB 34.9 MB/s eta 0:00:01\n",
      "   ------------------ --------------------- 16.5/36.4 MB 40.0 MB/s eta 0:00:01\n",
      "   ------------------------------- -------- 28.6/36.4 MB 45.3 MB/s eta 0:00:01\n",
      "   ---------------------------------------  36.2/36.4 MB 46.0 MB/s eta 0:00:01\n",
      "   ---------------------------------------- 36.4/36.4 MB 39.8 MB/s eta 0:00:00\n",
      "Installing collected packages: polars\n",
      "Successfully installed polars-1.30.0\n",
      "Note: you may need to restart the kernel to use updated packages.\n"
     ]
    }
   ],
   "source": [
    "# Instalar la librería \"polars\" en el entorno de Python\n",
    "%pip install polars"
   ]
  },
  {
   "cell_type": "code",
   "execution_count": 10,
   "id": "aa2a44c4",
   "metadata": {},
   "outputs": [],
   "source": [
    "# Importar la librería polaris\n",
    "import polars as pl\n",
    "\n",
    "# Leer CSVs y asegurar que los códigos sean tratados como texto\n",
    "df_notas = pl.read_csv(\n",
    "    \"../Data/DB_Notas.csv\", \n",
    "    schema_overrides={\n",
    "        \"cod_asignatura\": pl.Utf8,\n",
    "        \"cod_alumno\": pl.Utf8,\n",
    "        \"cod_plan\": pl.Utf8\n",
    "    }, \n",
    "    separator=\";\",\n",
    "    infer_schema_length=1000\n",
    ")\n",
    "df_cursos = pl.read_csv(\n",
    "    \"../Data/DB_Cursos.csv\", \n",
    "    schema_overrides={\"Codigo\": pl.Utf8}, \n",
    "    separator=\";\"\n",
    ")"
   ]
  },
  {
   "cell_type": "code",
   "execution_count": 11,
   "id": "614ba67c",
   "metadata": {},
   "outputs": [
    {
     "name": "stdout",
     "output_type": "stream",
     "text": [
      "Notas DataFrame:\n",
      "shape: (5, 7)\n",
      "┌──────────────┬──────────────┬─────────────┬──────────┬───────────────┬────────────┬──────────────┐\n",
      "│ cod_semestre ┆ cod_facultad ┆ cod_escuela ┆ cod_plan ┆ cod_asignatur ┆ cod_alumno ┆ val_calific_ │\n",
      "│ ---          ┆ ---          ┆ ---         ┆ ---      ┆ a             ┆ ---        ┆ final        │\n",
      "│ i64          ┆ i64          ┆ i64         ┆ str      ┆ ---           ┆ str        ┆ ---          │\n",
      "│              ┆              ┆             ┆          ┆ str           ┆            ┆ i64          │\n",
      "╞══════════════╪══════════════╪═════════════╪══════════╪═══════════════╪════════════╪══════════════╡\n",
      "│ 20191        ┆ 20           ┆ 1           ┆ 2009     ┆ 201003        ┆ 8200187    ┆ 16           │\n",
      "│ 20191        ┆ 20           ┆ 1           ┆ 2009     ┆ 201101        ┆ 6200206    ┆ 15           │\n",
      "│ 20191        ┆ 20           ┆ 1           ┆ 2009     ┆ 201101        ┆ 7200092    ┆ 6            │\n",
      "│ 20191        ┆ 20           ┆ 1           ┆ 2009     ┆ 201101        ┆ 110749     ┆ 14           │\n",
      "│ 20191        ┆ 20           ┆ 1           ┆ 2009     ┆ 201101        ┆ 4200074    ┆ 12           │\n",
      "└──────────────┴──────────────┴─────────────┴──────────┴───────────────┴────────────┴──────────────┘\n",
      "\n",
      "Cursos DataFrame:\n",
      "shape: (5, 6)\n",
      "┌────────┬───────────────────────────┬───────┬─────────────┬──────┬─────────┐\n",
      "│ Codigo ┆ Nombre                    ┆ Ciclo ┆ Tipo        ┆ Plan ┆ Escuela │\n",
      "│ ---    ┆ ---                       ┆ ---   ┆ ---         ┆ ---  ┆ ---     │\n",
      "│ str    ┆ str                       ┆ i64   ┆ str         ┆ i64  ┆ i64     │\n",
      "╞════════╪═══════════════════════════╪═══════╪═════════════╪══════╪═════════╡\n",
      "│ 201001 ┆ ALGORÍTMICA I             ┆ 1     ┆ Obligatorio ┆ 2009 ┆ 1       │\n",
      "│ 201003 ┆ CALCULO I                 ┆ 1     ┆ Obligatorio ┆ 2009 ┆ 1       │\n",
      "│ 201004 ┆ MATEMÁTICA BÁSICA I       ┆ 1     ┆ Obligatorio ┆ 2009 ┆ 1       │\n",
      "│ 201007 ┆ COMPUTACIÓN E INFORMÁTICA ┆ 1     ┆ Obligatorio ┆ 2009 ┆ 1       │\n",
      "│ 201008 ┆ TEORIA DE SISTEMAS        ┆ 1     ┆ Obligatorio ┆ 2009 ┆ 1       │\n",
      "└────────┴───────────────────────────┴───────┴─────────────┴──────┴─────────┘\n"
     ]
    }
   ],
   "source": [
    "# Mostrar las primeras filas de los DataFrames\n",
    "print(\"Notas DataFrame:\")\n",
    "print(df_notas.head())\n",
    "print(\"\\nCursos DataFrame:\")\n",
    "print(df_cursos.head())"
   ]
  },
  {
   "cell_type": "markdown",
   "id": "1baebb61",
   "metadata": {},
   "source": [
    "## 2. Cruce de tablas\n",
    "En segundo lugar, se procede a cruzar las tablas para verificar los cursos realmente existentes en los planes vigentes de las escuelas de ingeniería de sistemas y software."
   ]
  },
  {
   "cell_type": "code",
   "execution_count": 12,
   "id": "88aa864f",
   "metadata": {},
   "outputs": [],
   "source": [
    "# Hacer la unión (join) para añadir el nombre del curso\n",
    "df_completo = df_notas.join(\n",
    "    df_cursos,\n",
    "    left_on=\"cod_asignatura\",\n",
    "    right_on=\"Codigo\",\n",
    "    how=\"left\"\n",
    ")\n",
    "\n",
    "# Renombrar la columna del nombre del curso\n",
    "df_completo = df_completo.with_columns(\n",
    "    pl.col(\"Nombre\").alias(\"nombre_Curso\")\n",
    ")"
   ]
  },
  {
   "cell_type": "code",
   "execution_count": 13,
   "id": "63ddba4f",
   "metadata": {},
   "outputs": [
    {
     "name": "stdout",
     "output_type": "stream",
     "text": [
      "DataFrame completo:\n",
      "shape: (5, 13)\n",
      "┌─────────────┬─────────────┬────────────┬──────────┬───┬────────────┬──────┬─────────┬────────────┐\n",
      "│ cod_semestr ┆ cod_faculta ┆ cod_escuel ┆ cod_plan ┆ … ┆ Tipo       ┆ Plan ┆ Escuela ┆ nombre_Cur │\n",
      "│ e           ┆ d           ┆ a          ┆ ---      ┆   ┆ ---        ┆ ---  ┆ ---     ┆ so         │\n",
      "│ ---         ┆ ---         ┆ ---        ┆ str      ┆   ┆ str        ┆ i64  ┆ i64     ┆ ---        │\n",
      "│ i64         ┆ i64         ┆ i64        ┆          ┆   ┆            ┆      ┆         ┆ str        │\n",
      "╞═════════════╪═════════════╪════════════╪══════════╪═══╪════════════╪══════╪═════════╪════════════╡\n",
      "│ 20191       ┆ 20          ┆ 1          ┆ 2009     ┆ … ┆ Obligatori ┆ 2009 ┆ 1       ┆ CALCULO I  │\n",
      "│             ┆             ┆            ┆          ┆   ┆ o          ┆      ┆         ┆            │\n",
      "│ 20191       ┆ 20          ┆ 1          ┆ 2009     ┆ … ┆ Obligatori ┆ 2009 ┆ 1       ┆ GERENCIA   │\n",
      "│             ┆             ┆            ┆          ┆   ┆ o          ┆      ┆         ┆ INFORMÁTIC │\n",
      "│             ┆             ┆            ┆          ┆   ┆            ┆      ┆         ┆ A          │\n",
      "│ 20191       ┆ 20          ┆ 1          ┆ 2009     ┆ … ┆ Obligatori ┆ 2009 ┆ 1       ┆ GERENCIA   │\n",
      "│             ┆             ┆            ┆          ┆   ┆ o          ┆      ┆         ┆ INFORMÁTIC │\n",
      "│             ┆             ┆            ┆          ┆   ┆            ┆      ┆         ┆ A          │\n",
      "│ 20191       ┆ 20          ┆ 1          ┆ 2009     ┆ … ┆ Obligatori ┆ 2009 ┆ 1       ┆ GERENCIA   │\n",
      "│             ┆             ┆            ┆          ┆   ┆ o          ┆      ┆         ┆ INFORMÁTIC │\n",
      "│             ┆             ┆            ┆          ┆   ┆            ┆      ┆         ┆ A          │\n",
      "│ 20191       ┆ 20          ┆ 1          ┆ 2009     ┆ … ┆ Obligatori ┆ 2009 ┆ 1       ┆ GERENCIA   │\n",
      "│             ┆             ┆            ┆          ┆   ┆ o          ┆      ┆         ┆ INFORMÁTIC │\n",
      "│             ┆             ┆            ┆          ┆   ┆            ┆      ┆         ┆ A          │\n",
      "└─────────────┴─────────────┴────────────┴──────────┴───┴────────────┴──────┴─────────┴────────────┘\n"
     ]
    }
   ],
   "source": [
    "# Mostrar las primeras filas del DataFrame completo\n",
    "print(\"DataFrame completo:\")\n",
    "print(df_completo.head())"
   ]
  },
  {
   "cell_type": "code",
   "execution_count": 19,
   "id": "36fa0a1f",
   "metadata": {},
   "outputs": [],
   "source": [
    "# Eliminar las filas con valores nulos en la columna 'nombre_Curso'\n",
    "df_completo = df_completo.filter(pl.col(\"nombre_Curso\").is_not_null())"
   ]
  },
  {
   "cell_type": "code",
   "execution_count": null,
   "id": "af5c0ad8",
   "metadata": {},
   "outputs": [],
   "source": [
    "# Eliminar los espacios en blanco al final de algunas celdas de la columna 'cod_plan'\n",
    "df_completo = df_completo.with_columns(\n",
    "    pl.col(\"cod_plan\")\n",
    "      .str.replace(r\"\\s+$\", \"\", literal=False)\n",
    ")"
   ]
  },
  {
   "cell_type": "code",
   "execution_count": 29,
   "id": "972443e5",
   "metadata": {},
   "outputs": [
    {
     "name": "stdout",
     "output_type": "stream",
     "text": [
      "\n",
      "Columnas del DataFrame completo:\n",
      "1. cod_semestre\n",
      "2. cod_facultad\n",
      "3. cod_escuela\n",
      "4. cod_plan\n",
      "5. cod_asignatura\n",
      "6. cod_alumno\n",
      "7. val_calific_final\n",
      "8. Nombre\n",
      "9. Ciclo\n",
      "10. Tipo\n",
      "11. Plan\n",
      "12. Escuela\n",
      "13. nombre_Curso\n"
     ]
    }
   ],
   "source": [
    "# Enlistar el nombre de las columnas del DataFrame completo\n",
    "print(\"\\nColumnas del DataFrame completo:\")\n",
    "for idx, col in enumerate(df_completo.columns):\n",
    "    print(f\"{idx+1}. {col}\")"
   ]
  },
  {
   "cell_type": "markdown",
   "id": "630d9a4c",
   "metadata": {},
   "source": [
    "## 3. Transformación de datos\n",
    "En tercer lugar, se categoriza las notas con la finalidad de adecuar el dataset para que sea compatible con el algoritmo J48."
   ]
  },
  {
   "cell_type": "code",
   "execution_count": 30,
   "id": "649c0ca5",
   "metadata": {},
   "outputs": [],
   "source": [
    "# Crear un DataFrame con las columnas de interés\n",
    "df_interes = df_completo.select([\n",
    "    \"cod_escuela\",\n",
    "    \"cod_plan\",\n",
    "    \"cod_asignatura\",\n",
    "    \"nombre_Curso\",\n",
    "    \"val_calific_final\"\n",
    "])"
   ]
  },
  {
   "cell_type": "code",
   "execution_count": 31,
   "id": "e2a9b450",
   "metadata": {},
   "outputs": [
    {
     "name": "stdout",
     "output_type": "stream",
     "text": [
      "✅ ¡Listo! Archivo guardado como 'DP_notas_verificadas.csv'\n"
     ]
    }
   ],
   "source": [
    "# Guardar el DataFrame con las columnas de interés en un nuevo CSV\n",
    "df_interes.write_csv(\"../Data/DP_notas_verificadas.csv\")\n",
    "\n",
    "print(\"✅ ¡Listo! Archivo guardado como 'DP_notas_verificadas.csv'\")"
   ]
  },
  {
   "cell_type": "code",
   "execution_count": 35,
   "id": "cac70c70",
   "metadata": {},
   "outputs": [],
   "source": [
    "# Agregar una columna con la categorización de las notas  \n",
    "df_interes = df_interes.with_columns(\n",
    "    pl.when( pl.col(\"val_calific_final\") >= 17 ).then( pl.lit(\"Alta\") )\n",
    "      .when( pl.col(\"val_calific_final\") >= 14 ).then( pl.lit(\"Aceptable\") )\n",
    "      .when( pl.col(\"val_calific_final\") >= 11 ).then( pl.lit(\"Baja\") )\n",
    "      .otherwise( pl.lit(\"Reprobado\") )\n",
    "      .alias(\"categoria_nota\")\n",
    ")"
   ]
  },
  {
   "cell_type": "code",
   "execution_count": 36,
   "id": "566da454",
   "metadata": {},
   "outputs": [
    {
     "name": "stdout",
     "output_type": "stream",
     "text": [
      "\n",
      "DataFrame con categorización de notas:\n",
      "shape: (5, 6)\n",
      "┌─────────────┬──────────┬────────────────┬──────────────┬───────────────────┬────────────────┐\n",
      "│ cod_escuela ┆ cod_plan ┆ cod_asignatura ┆ nombre_Curso ┆ val_calific_final ┆ categoria_nota │\n",
      "│ ---         ┆ ---      ┆ ---            ┆ ---          ┆ ---               ┆ ---            │\n",
      "│ i64         ┆ str      ┆ str            ┆ str          ┆ i64               ┆ str            │\n",
      "╞═════════════╪══════════╪════════════════╪══════════════╪═══════════════════╪════════════════╡\n",
      "│ 1           ┆ 2009     ┆ 201003         ┆ CALCULO I    ┆ 16                ┆ Aceptable      │\n",
      "│ 1           ┆ 2009     ┆ 201101         ┆ GERENCIA     ┆ 15                ┆ Aceptable      │\n",
      "│             ┆          ┆                ┆ INFORMÁTICA  ┆                   ┆                │\n",
      "│ 1           ┆ 2009     ┆ 201101         ┆ GERENCIA     ┆ 6                 ┆ Reprobado      │\n",
      "│             ┆          ┆                ┆ INFORMÁTICA  ┆                   ┆                │\n",
      "│ 1           ┆ 2009     ┆ 201101         ┆ GERENCIA     ┆ 14                ┆ Aceptable      │\n",
      "│             ┆          ┆                ┆ INFORMÁTICA  ┆                   ┆                │\n",
      "│ 1           ┆ 2009     ┆ 201101         ┆ GERENCIA     ┆ 12                ┆ Baja           │\n",
      "│             ┆          ┆                ┆ INFORMÁTICA  ┆                   ┆                │\n",
      "└─────────────┴──────────┴────────────────┴──────────────┴───────────────────┴────────────────┘\n"
     ]
    }
   ],
   "source": [
    "# Mostrar las primeras filas del DataFrame con la categorización de las notas\n",
    "print(\"\\nDataFrame con categorización de notas:\")\n",
    "print(df_interes.head())"
   ]
  },
  {
   "cell_type": "code",
   "execution_count": 38,
   "id": "1a857132",
   "metadata": {},
   "outputs": [],
   "source": [
    "# Crear un DataFrame con las columnas de interés\n",
    "df_interes2 = df_interes.select([\n",
    "    \"cod_escuela\",\n",
    "    \"cod_plan\",\n",
    "    \"cod_asignatura\",\n",
    "    \"categoria_nota\"\n",
    "])"
   ]
  },
  {
   "cell_type": "code",
   "execution_count": 39,
   "id": "541a5de3",
   "metadata": {},
   "outputs": [
    {
     "name": "stdout",
     "output_type": "stream",
     "text": [
      "\n",
      "DataFrame con categorización de notas:\n",
      "shape: (5, 4)\n",
      "┌─────────────┬──────────┬────────────────┬────────────────┐\n",
      "│ cod_escuela ┆ cod_plan ┆ cod_asignatura ┆ categoria_nota │\n",
      "│ ---         ┆ ---      ┆ ---            ┆ ---            │\n",
      "│ i64         ┆ str      ┆ str            ┆ str            │\n",
      "╞═════════════╪══════════╪════════════════╪════════════════╡\n",
      "│ 1           ┆ 2009     ┆ 201003         ┆ Aceptable      │\n",
      "│ 1           ┆ 2009     ┆ 201101         ┆ Aceptable      │\n",
      "│ 1           ┆ 2009     ┆ 201101         ┆ Reprobado      │\n",
      "│ 1           ┆ 2009     ┆ 201101         ┆ Aceptable      │\n",
      "│ 1           ┆ 2009     ┆ 201101         ┆ Baja           │\n",
      "└─────────────┴──────────┴────────────────┴────────────────┘\n"
     ]
    }
   ],
   "source": [
    "# Mostrar las primeras filas del DataFrame con la categorización de las notas\n",
    "print(\"\\nDataFrame con categorización de notas:\")\n",
    "print(df_interes2.head())"
   ]
  },
  {
   "cell_type": "code",
   "execution_count": 41,
   "id": "28041ca2",
   "metadata": {},
   "outputs": [
    {
     "name": "stdout",
     "output_type": "stream",
     "text": [
      "\n",
      "Tipos de datos del DataFrame final:\n",
      "[Int64, Int64, String, String]\n"
     ]
    }
   ],
   "source": [
    "# Filtrar las filas donde 'cod_plan' contiene solo números\n",
    "df_interes2 = df_interes2.filter(pl.col(\"cod_plan\").str.contains(r\"^\\d+$\"))\n",
    "\n",
    "# Cambiar el tipo de dato de la columna 'cod_plan' a numérico\n",
    "df_interes2 = df_interes2.with_columns(\n",
    "    pl.col(\"cod_plan\").cast(pl.Int64)\n",
    ")\n",
    "\n",
    "# Mostrar los tipos de datos del DataFrame final\n",
    "print(\"\\nTipos de datos del DataFrame final:\")\n",
    "print(df_interes2.dtypes)"
   ]
  },
  {
   "cell_type": "code",
   "execution_count": 42,
   "id": "86db07d4",
   "metadata": {},
   "outputs": [
    {
     "name": "stdout",
     "output_type": "stream",
     "text": [
      "✅ ¡Listo! Archivo guardado como 'DP_notas_categorizadas.csv'\n"
     ]
    }
   ],
   "source": [
    "# Guardar el DataFrame con las columnas de interés en un nuevo CSV\n",
    "df_interes2.write_csv(\"../Data/DP_notas_categorizadas.csv\")\n",
    "\n",
    "print(\"✅ ¡Listo! Archivo guardado como 'DP_notas_categorizadas.csv'\")"
   ]
  }
 ],
 "metadata": {
  "kernelspec": {
   "display_name": ".venv",
   "language": "python",
   "name": "python3"
  },
  "language_info": {
   "codemirror_mode": {
    "name": "ipython",
    "version": 3
   },
   "file_extension": ".py",
   "mimetype": "text/x-python",
   "name": "python",
   "nbconvert_exporter": "python",
   "pygments_lexer": "ipython3",
   "version": "3.12.5"
  }
 },
 "nbformat": 4,
 "nbformat_minor": 5
}
